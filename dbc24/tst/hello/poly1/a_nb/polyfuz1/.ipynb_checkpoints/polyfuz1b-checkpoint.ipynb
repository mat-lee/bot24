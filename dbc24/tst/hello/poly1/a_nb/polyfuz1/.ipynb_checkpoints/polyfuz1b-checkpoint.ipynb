{
 "cells": [
  {
   "cell_type": "markdown",
   "id": "b053ad91-7613-49d1-bf34-d34613735215",
   "metadata": {},
   "source": [
    "# Setup"
   ]
  },
  {
   "cell_type": "markdown",
   "id": "69802a97-2f29-4b93-8803-58796461ba93",
   "metadata": {},
   "source": [
    "# WORK_DIR\n",
    "\n",
    "\n",
    "| a | b | c | \n",
    "|-|-|-|\n",
    "| | work_dir | | \n",
    "| | work_tool | |\n",
    "| | work_etc | |"
   ]
  },
  {
   "cell_type": "code",
   "execution_count": 7,
   "id": "2331a07d-27dd-4fb6-9c73-57ceb58755ff",
   "metadata": {},
   "outputs": [
    {
     "name": "stdout",
     "output_type": "stream",
     "text": [
      "posix\n",
      "/Users/dwyk/d2/s4/m7/k_/k6/pf/pf2406a/pf/web/net/n8cl\n"
     ]
    }
   ],
   "source": [
    "import os\n",
    "print(os.name)\n",
    "work_dir = os.sep.join( os.getcwd().split(os.sep)[0:-2])\n",
    "work_tool=os.path.join(work_dir,'a')\n",
    "work_etc=os.path.join(work_dir,'a_')\n",
    "print(os.listdir(work_tool))\n",
    "print(os.listdir(work_etc))\n",
    "print(work_dir)"
   ]
  },
  {
   "cell_type": "markdown",
   "id": "eac9f384-a770-40eb-ba26-99b97a831ef7",
   "metadata": {},
   "source": [
    "# PYTHONPATH"
   ]
  },
  {
   "cell_type": "code",
   "execution_count": 8,
   "id": "18a4f19a-4e2e-4129-9b00-63e7b2708051",
   "metadata": {},
   "outputs": [
    {
     "name": "stdout",
     "output_type": "stream",
     "text": [
      "['polyfuz1', 'act', 'polyfuz4', 'polyfuz2', '.ipynb_checkpoints']\n",
      "['c_charm', 'f_files', '.DS_Store', 'b_bash', 'd_diary', 'g_git', 't_template', 'a_acd', 's_static']\n"
     ]
    }
   ],
   "source": []
  },
  {
   "cell_type": "code",
   "execution_count": 4,
   "id": "107b8c91-211f-4142-957d-993a71291957",
   "metadata": {},
   "outputs": [],
   "source": [
    "import sys\n",
    "sys.path.insert(0,work_tool)"
   ]
  },
  {
   "cell_type": "markdown",
   "id": "ea724ad0-790b-44e4-86ba-439ef73b126e",
   "metadata": {},
   "source": [
    "# DOTENV\n",
    "\n",
    " Env\n",
    "    pip install python-dotenv\n"
   ]
  },
  {
   "cell_type": "code",
   "execution_count": null,
   "id": "5144db88-eed7-4e1e-ae4b-03c66cdc7cec",
   "metadata": {},
   "outputs": [],
   "source": []
  },
  {
   "cell_type": "code",
   "execution_count": 5,
   "id": "f66d17ad-cb5a-44da-86e7-326c5dbbd63c",
   "metadata": {},
   "outputs": [
    {
     "name": "stdout",
     "output_type": "stream",
     "text": [
      "9008\n"
     ]
    }
   ],
   "source": [
    "from act.dot_env import DotEnv\n",
    "dotEnv = DotEnv(work_dir,)\n",
    "print(dotEnv.FLASK_RUN_PORT)"
   ]
  },
  {
   "cell_type": "code",
   "execution_count": 6,
   "id": "72a414af-6922-4796-869a-f0e851895d8a",
   "metadata": {},
   "outputs": [
    {
     "data": {
      "text/plain": [
       "['DIARY_Y240508',\n",
       " 'DIARY_Y240507',\n",
       " 'SEED_XLSX_FULL_PATH',\n",
       " 'SEED_XLSX',\n",
       " 'MY_DAT',\n",
       " 'FLASK_TEMPLATE_DIR',\n",
       " 'FLASK_STATIC_DIR',\n",
       " 'FLASK_RUN_PORT',\n",
       " 'FLASK_RUN_HOST',\n",
       " 'SECRET_KEY',\n",
       " 'DATABASE_URL',\n",
       " 'FLASK_DEBUG',\n",
       " 'FLASK_ENV',\n",
       " 'FLASK_APP',\n",
       " 'ACD_ENV_NEW_PIP_LOC',\n",
       " 'ACD_ENV_NEW_CLONE',\n",
       " 'ACD_ENV_NEW',\n",
       " 'ACD_ENV',\n",
       " 'WORK_DIR',\n",
       " 'MPLBACKEND',\n",
       " 'GIT_PAGER',\n",
       " 'PAGER',\n",
       " 'CLICOLOR_FORCE',\n",
       " 'FORCE_COLOR',\n",
       " 'CLICOLOR',\n",
       " 'PYDEVD_USE_FRAME_EVAL',\n",
       " 'JPY_PARENT_PID',\n",
       " 'JPY_SESSION_NAME',\n",
       " '_',\n",
       " 'AIRFLOW_HOME',\n",
       " 'af_home',\n",
       " 'SECURITYSESSIONID',\n",
       " 'JUPYTERLAB_SETTINGS_DIR',\n",
       " 'af_cfg',\n",
       " 'CONDA_DEFAULT_ENV',\n",
       " 'LC_CTYPE',\n",
       " 'af_ops',\n",
       " 'ui_home',\n",
       " 'CONDA_PYTHON_EXE',\n",
       " 'LOGNAME',\n",
       " 'af__cfg',\n",
       " 'af_ui_pass',\n",
       " 'HOME',\n",
       " 'SHLVL',\n",
       " '_CE_M',\n",
       " 'XPC_SERVICE_NAME',\n",
       " 'af_cfg_ui',\n",
       " 'af__dag',\n",
       " 'XPC_FLAGS',\n",
       " 'af_uid',\n",
       " 'ui__home',\n",
       " 'af__vsc',\n",
       " 'af_acd_uid',\n",
       " 'PWD',\n",
       " '__CFBundleIdentifier',\n",
       " 'CONDA_PREFIX',\n",
       " 'LaunchInstanceID',\n",
       " 'tk_exe',\n",
       " 'af_db',\n",
       " 'JUPYTERLAB_WORKSPACE_DIR',\n",
       " 'PATH',\n",
       " 'af_sd',\n",
       " 'af__cfg_ui',\n",
       " 'af_ui_user',\n",
       " 'pg_log',\n",
       " '_CE_CONDA',\n",
       " '__CF_USER_TEXT_ENCODING',\n",
       " 'SSH_AUTH_SOCK',\n",
       " 'CONDA_EXE',\n",
       " 'COMMAND_MODE',\n",
       " 'pg_vsc',\n",
       " 'af__home',\n",
       " 'tk_vsc',\n",
       " 'USER',\n",
       " 'pg_uid',\n",
       " 'ui_house',\n",
       " 'tk_home',\n",
       " 'pg_',\n",
       " 'CONDA_PROMPT_MODIFIER',\n",
       " 'CONDA_SHLVL',\n",
       " 'TMPDIR',\n",
       " 'af__charm',\n",
       " 'af_tst_url',\n",
       " 'SHELL',\n",
       " 'TERM',\n",
       " 'af_log',\n",
       " 'af_dag']"
      ]
     },
     "execution_count": 6,
     "metadata": {},
     "output_type": "execute_result"
    }
   ],
   "source": [
    "list(reversed(list(os.environ)))"
   ]
  },
  {
   "cell_type": "raw",
   "id": "4888e0df-513d-4a79-af11-7205f7443443",
   "metadata": {},
   "source": []
  },
  {
   "cell_type": "code",
   "execution_count": null,
   "id": "ecbffe41-c5bc-4e53-b0af-fd024166813a",
   "metadata": {},
   "outputs": [],
   "source": []
  }
 ],
 "metadata": {
  "kernelspec": {
   "display_name": "Python 3 (ipykernel)",
   "language": "python",
   "name": "python3"
  },
  "language_info": {
   "codemirror_mode": {
    "name": "ipython",
    "version": 3
   },
   "file_extension": ".py",
   "mimetype": "text/x-python",
   "name": "python",
   "nbconvert_exporter": "python",
   "pygments_lexer": "ipython3",
   "version": "3.9.16"
  }
 },
 "nbformat": 4,
 "nbformat_minor": 5
}
