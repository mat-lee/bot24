{
 "cells": [
  {
   "cell_type": "code",
   "execution_count": 1,
   "id": "5be99aff-8676-48cc-88e2-ade594583eb4",
   "metadata": {},
   "outputs": [],
   "source": [
    "list_from=['abc','def']\n",
    "list_to=['abcd','defg']"
   ]
  },
  {
   "cell_type": "code",
   "execution_count": null,
   "id": "8dc9c6d0-b3c3-4d31-bc14-85ff41df7e00",
   "metadata": {},
   "outputs": [],
   "source": []
  }
 ],
 "metadata": {
  "kernelspec": {
   "display_name": "Python 3 (ipykernel)",
   "language": "python",
   "name": "python3"
  },
  "language_info": {
   "codemirror_mode": {
    "name": "ipython",
    "version": 3
   },
   "file_extension": ".py",
   "mimetype": "text/x-python",
   "name": "python",
   "nbconvert_exporter": "python",
   "pygments_lexer": "ipython3",
   "version": "3.9.16"
  }
 },
 "nbformat": 4,
 "nbformat_minor": 5
}
