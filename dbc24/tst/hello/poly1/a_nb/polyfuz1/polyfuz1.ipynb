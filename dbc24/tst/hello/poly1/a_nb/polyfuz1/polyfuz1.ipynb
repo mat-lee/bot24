{
 "cells": [
  {
   "cell_type": "code",
   "execution_count": 1,
   "id": "1a5ae3af-40d6-48bb-81ac-6bbc5e8ae56f",
   "metadata": {},
   "outputs": [
    {
     "name": "stdout",
     "output_type": "stream",
     "text": [
      "posix\n",
      "['polyfuz1', 'act', 'polyfuz4']\n",
      "['c_charm', 'f_files', '.DS_Store', 'b_bash', 'd_diary', 'g_git', 't_template', 'a_acd', 's_static']\n",
      "/Users/dwyk/d2/s4/m7/k_/k6/bot246/bot246/dbc24/tst/hello/poly1\n",
      "9008\n"
     ]
    }
   ],
   "source": [
    "# %%capture\n",
    "%run polyfuz1b.ipynb\n",
    "%run polyfuz1d_data.ipynb"
   ]
  },
  {
   "cell_type": "code",
   "execution_count": 2,
   "id": "d777f9f3-bedd-4339-bd9b-92de25a63224",
   "metadata": {},
   "outputs": [
    {
     "data": {
      "text/plain": [
       "<polyfuz1.polyfuz1.PolyFuz1 at 0x107fefb20>"
      ]
     },
     "execution_count": 2,
     "metadata": {},
     "output_type": "execute_result"
    }
   ],
   "source": [
    "from polyfuz1 import polyfuz1 as pf\n",
    "matcher = pf.PolyFuz1(\"TF-IDF\")\n",
    "matcher.match(list_from, list_to)"
   ]
  },
  {
   "cell_type": "code",
   "execution_count": 3,
   "id": "4483c240-1ed2-419a-a60c-74e20fe2c68e",
   "metadata": {},
   "outputs": [
    {
     "name": "stdout",
     "output_type": "stream",
     "text": [
      "/Users/dwyk/d2/s4/m7/k_/k6/bot246/bot246/dbc24/tst/hello/poly1\n",
      "/Users/dwyk/d2/s4/m7/k_/k6/bot246/bot246/dbc24/tst/hello/poly1/a\n",
      "/Users/dwyk/d2/s4/m7/k_/k6/bot246/bot246/dbc24/tst/hello/poly1/a_\n"
     ]
    }
   ],
   "source": [
    "print(work_dir)\n",
    "print(work_tool)\n",
    "print(work_etc)"
   ]
  },
  {
   "cell_type": "code",
   "execution_count": 4,
   "id": "1aa15f57-5d02-43f3-9e9e-e52d25b67ffc",
   "metadata": {},
   "outputs": [],
   "source": [
    "class Cfg:\n",
    "    def __init__(self):\n",
    "        self.one='one'\n",
    "exp_cfg = Cfg()"
   ]
  }
 ],
 "metadata": {
  "kernelspec": {
   "display_name": "Python 3 (ipykernel)",
   "language": "python",
   "name": "python3"
  },
  "language_info": {
   "codemirror_mode": {
    "name": "ipython",
    "version": 3
   },
   "file_extension": ".py",
   "mimetype": "text/x-python",
   "name": "python",
   "nbconvert_exporter": "python",
   "pygments_lexer": "ipython3",
   "version": "3.9.16"
  }
 },
 "nbformat": 4,
 "nbformat_minor": 5
}
