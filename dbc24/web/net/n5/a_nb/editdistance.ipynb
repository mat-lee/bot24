{
 "cells": [
  {
   "cell_type": "code",
   "execution_count": 1,
   "id": "064be76c-72a4-4d73-a543-784736602acb",
   "metadata": {},
   "outputs": [],
   "source": [
    "import os\n",
    "work_dir = os.sep.join(os.getcwd().split(os.sep)[0:-1])"
   ]
  },
  {
   "cell_type": "code",
   "execution_count": 2,
   "id": "af34f05e-6c93-44cd-8acd-c9e38aab7665",
   "metadata": {},
   "outputs": [
    {
     "name": "stdout",
     "output_type": "stream",
     "text": [
      "/Users/matthewlee/Documents/Code/b24/b5/bot2405a/dbc24/web/net/n5\n"
     ]
    }
   ],
   "source": [
    "print(work_dir)"
   ]
  },
  {
   "cell_type": "code",
   "execution_count": 3,
   "id": "158e3019-7e44-4047-b4ef-9dad37d3068f",
   "metadata": {},
   "outputs": [],
   "source": [
    "import sys\n",
    "\n",
    "work_tool=os.path.join(work_dir,'action')\n",
    "data_dir_netflix=os.path.join(work_dir,'setup/d_data')\n",
    "data_dir_edgar=os.path.join(os.sep.join(work_dir.split(os.sep)[0:-3]),'dat/net/sec_edgar')\n",
    "\n",
    "sys.path.insert(0, work_tool)"
   ]
  },
  {
   "cell_type": "code",
   "execution_count": 4,
   "id": "f84ca7c5-8d79-4398-8a0b-e18bc50ecc37",
   "metadata": {},
   "outputs": [],
   "source": [
    "from polyfuzz1 import polyfuzz2\n",
    "from polyfuzz1 import metrics\n",
    "from polyfuzz1.models import tfidf, BaseMatcher, EditDistance\n",
    "\n",
    "from rapidfuzz import fuzz\n",
    "\n",
    "import json\n",
    "import numpy as np\n",
    "import pandas as pd"
   ]
  },
  {
   "cell_type": "markdown",
   "id": "dfa775c5-91e0-467e-bb0b-2585177401ab",
   "metadata": {},
   "source": [
    "## Data"
   ]
  },
  {
   "cell_type": "code",
   "execution_count": 5,
   "id": "088ce754-5c58-49c6-bbf4-3ed295981839",
   "metadata": {},
   "outputs": [],
   "source": [
    "# Load data\n",
    "# data_a = json.load(open(f'{data_dir_netflix}/movie_titles_netflix_a.json', 'r'))\n",
    "# data_b = json.load(open(f'{data_dir_netflix}/movie_titles_netflix_b.json', 'r'))\n",
    "\n",
    "data_a = pd.read_csv(f'{data_dir_edgar}/edgar100a.csv')\n",
    "data_b = pd.read_csv(f'{data_dir_edgar}/edgar100b.csv')\n",
    "data_c = pd.read_csv(f'{data_dir_edgar}/edgar100c.csv')\n",
    "data_d = pd.read_csv(f'{data_dir_edgar}/edgar100d.csv')"
   ]
  },
  {
   "cell_type": "code",
   "execution_count": 6,
   "id": "08911e78-69e4-4ffb-913c-1ef0117296db",
   "metadata": {},
   "outputs": [],
   "source": [
    "to_list = data_c.loc[:, 'name'].tolist()\n",
    "from_list = data_b.loc[:, 'name'].tolist()"
   ]
  },
  {
   "cell_type": "code",
   "execution_count": 7,
   "id": "f3c26ccb-bdd7-4742-97d3-3b75932f0a4e",
   "metadata": {},
   "outputs": [
    {
     "data": {
      "text/plain": [
       "100"
      ]
     },
     "execution_count": 7,
     "metadata": {},
     "output_type": "execute_result"
    }
   ],
   "source": [
    "len(to_list)"
   ]
  },
  {
   "cell_type": "code",
   "execution_count": 8,
   "id": "c8992249-ca65-4b73-8d6e-756b53354d43",
   "metadata": {},
   "outputs": [],
   "source": [
    "from_string = from_list[0]\n",
    "\n",
    "test_matches = [fuzz.ratio(from_string, to_string) for to_string in to_list]"
   ]
  },
  {
   "cell_type": "markdown",
   "id": "d423d89c-e655-427d-90c3-3448821abc52",
   "metadata": {},
   "source": [
    "## Custom Model/Grouping"
   ]
  },
  {
   "cell_type": "code",
   "execution_count": 9,
   "id": "07dce4a5-6920-4930-9766-8c41f0f2dc2c",
   "metadata": {},
   "outputs": [],
   "source": [
    "class MyModel(BaseMatcher):\n",
    "    def match(self, from_list, to_list, **kwargs):\n",
    "        # Calculate distances\n",
    "        matches = [[fuzz.ratio(from_string, to_string) / 100 \n",
    "                   for to_string in to_list] for from_string in from_list]\n",
    "\n",
    "        # Get best matches\n",
    "        mappings = [to_list[index] for index in np.argmax(matches, axis=1)]\n",
    "        scores = np.max(matches, axis=1)\n",
    "\n",
    "        # Prepare dataframe\n",
    "        matches = pd.DataFrame({'From': from_list,\n",
    "                                'To': mappings, \n",
    "                                'Similarity': scores})\n",
    "        return matches"
   ]
  },
  {
   "cell_type": "code",
   "execution_count": 14,
   "id": "e25d9b4d-2867-4560-9653-4c674dabf200",
   "metadata": {},
   "outputs": [],
   "source": [
    "class CustomModel(BaseMatcher):\n",
    "    def match(self, from_list, to_list, n_most, threshold):\n",
    "        mappings = []\n",
    "        \n",
    "        # Calculate distances\n",
    "        for from_string in from_list:\n",
    "            matches = [[to_string, fuzz.ratio(from_string, to_string) / 100] \n",
    "                       for to_string in to_list]\n",
    "\n",
    "            matches.sort(reverse=True, key=lambda x: x[1])\n",
    "\n",
    "            while len(matches) > n_most:\n",
    "                matches.pop(-1)\n",
    "        \n",
    "            matches = [match for match in matches if match[1] > threshold]\n",
    "\n",
    "            mappings.append(matches)\n",
    "\n",
    "        # Prepare dataframe\n",
    "        matches = {'From': from_list, 'To': mappings}\n",
    "        return matches"
   ]
  },
  {
   "cell_type": "code",
   "execution_count": 11,
   "id": "aa61d2b3-a0d2-4bd8-badb-4d8bb0aecf49",
   "metadata": {},
   "outputs": [],
   "source": [
    "# from_list = [\"apple\", \"apples\", \"appl\", \"recal\", \"house\", \"similarity\"]\n",
    "# to_list = [\"apple\", \"apples\", \"mouse\"]\n",
    "\n",
    "# model = PolyFuzz(\"TF-IDF\").match(from_list, to_list)\n",
    "\n",
    "# Custom grouper\n",
    "base_edit_grouper = EditDistance(n_jobs=1)\n",
    "# model.group(base_edit_grouper)"
   ]
  },
  {
   "cell_type": "code",
   "execution_count": 15,
   "id": "a5514351-cc91-449d-a6ab-a52324e63a7c",
   "metadata": {},
   "outputs": [],
   "source": [
    "# TEST\n",
    "m = CustomModel()\n",
    "test_matches = m.match(to_list, from_list, 3, 0.5)"
   ]
  },
  {
   "cell_type": "code",
   "execution_count": null,
   "id": "87c69771-d5ec-482a-ad07-b767dee5a559",
   "metadata": {},
   "outputs": [],
   "source": [
    "test_matches"
   ]
  },
  {
   "cell_type": "markdown",
   "id": "056e10f6-8380-4741-a3b8-699fdf0a3fb6",
   "metadata": {},
   "source": [
    "## Edit Distance"
   ]
  },
  {
   "cell_type": "code",
   "execution_count": 16,
   "id": "956f6d61-8950-4b06-ab45-a6cf67fa379a",
   "metadata": {},
   "outputs": [],
   "source": [
    "mymodel = MyModel()"
   ]
  },
  {
   "cell_type": "code",
   "execution_count": 17,
   "id": "c505ea1d-d8b9-4f5b-b668-61f72cdc8818",
   "metadata": {},
   "outputs": [],
   "source": [
    "model = polyfuzz2.PolyFuzzMatch(method=mymodel).match(to_list, from_list)"
   ]
  },
  {
   "cell_type": "code",
   "execution_count": 12,
   "id": "b2d35cfd-18cb-4758-8d87-5afdcd1255bb",
   "metadata": {},
   "outputs": [
    {
     "data": {
      "text/html": [
       "<div>\n",
       "<style scoped>\n",
       "    .dataframe tbody tr th:only-of-type {\n",
       "        vertical-align: middle;\n",
       "    }\n",
       "\n",
       "    .dataframe tbody tr th {\n",
       "        vertical-align: top;\n",
       "    }\n",
       "\n",
       "    .dataframe thead th {\n",
       "        text-align: right;\n",
       "    }\n",
       "</style>\n",
       "<table border=\"1\" class=\"dataframe\">\n",
       "  <thead>\n",
       "    <tr style=\"text-align: right;\">\n",
       "      <th></th>\n",
       "      <th>From</th>\n",
       "      <th>To</th>\n",
       "      <th>Similarity</th>\n",
       "    </tr>\n",
       "  </thead>\n",
       "  <tbody>\n",
       "    <tr>\n",
       "      <th>0</th>\n",
       "      <td>1-800-PHARMACY INC</td>\n",
       "      <td>1-800-JACKPOT INC</td>\n",
       "      <td>0.685714</td>\n",
       "    </tr>\n",
       "    <tr>\n",
       "      <th>1</th>\n",
       "      <td>1-800-RADIATOR FRANCHISE INC.</td>\n",
       "      <td>1 800 RADIATOR FRANCHISE INC</td>\n",
       "      <td>0.912281</td>\n",
       "    </tr>\n",
       "    <tr>\n",
       "      <th>2</th>\n",
       "      <td>1-900 JACKPOT, INC.</td>\n",
       "      <td>1-800-JACKPOT INC</td>\n",
       "      <td>0.833333</td>\n",
       "    </tr>\n",
       "    <tr>\n",
       "      <th>3</th>\n",
       "      <td>1-PAGE LTD</td>\n",
       "      <td>1-10/KATY LTD</td>\n",
       "      <td>0.608696</td>\n",
       "    </tr>\n",
       "    <tr>\n",
       "      <th>4</th>\n",
       "      <td>1/2 MAC LTD</td>\n",
       "      <td>1-10/KATY LTD</td>\n",
       "      <td>0.583333</td>\n",
       "    </tr>\n",
       "    <tr>\n",
       "      <th>...</th>\n",
       "      <td>...</td>\n",
       "      <td>...</td>\n",
       "      <td>...</td>\n",
       "    </tr>\n",
       "    <tr>\n",
       "      <th>95</th>\n",
       "      <td>10101 SW 14 MEMBER, LLC</td>\n",
       "      <td>1 COMMUNITY BUILDERS, LLC</td>\n",
       "      <td>0.500000</td>\n",
       "    </tr>\n",
       "    <tr>\n",
       "      <th>96</th>\n",
       "      <td>1010DATA, INC.</td>\n",
       "      <td>1-800-DOCTORS, INC.</td>\n",
       "      <td>0.666667</td>\n",
       "    </tr>\n",
       "    <tr>\n",
       "      <th>97</th>\n",
       "      <td>1011 - 1041 TALEGA, LLC</td>\n",
       "      <td>1-800-PACK-RAT, LLC</td>\n",
       "      <td>0.476190</td>\n",
       "    </tr>\n",
       "    <tr>\n",
       "      <th>98</th>\n",
       "      <td>1011 BRIAR HILLS ONE INVESTORS INC</td>\n",
       "      <td>1 800 RADIATOR FRANCHISE INC</td>\n",
       "      <td>0.516129</td>\n",
       "    </tr>\n",
       "    <tr>\n",
       "      <th>99</th>\n",
       "      <td>101105607 SASKATCHEWAN LTD</td>\n",
       "      <td>1-10/KATY LTD</td>\n",
       "      <td>0.512821</td>\n",
       "    </tr>\n",
       "  </tbody>\n",
       "</table>\n",
       "<p>100 rows × 3 columns</p>\n",
       "</div>"
      ],
      "text/plain": [
       "                                  From                            To  \\\n",
       "0                   1-800-PHARMACY INC             1-800-JACKPOT INC   \n",
       "1        1-800-RADIATOR FRANCHISE INC.  1 800 RADIATOR FRANCHISE INC   \n",
       "2                  1-900 JACKPOT, INC.             1-800-JACKPOT INC   \n",
       "3                           1-PAGE LTD                 1-10/KATY LTD   \n",
       "4                          1/2 MAC LTD                 1-10/KATY LTD   \n",
       "..                                 ...                           ...   \n",
       "95             10101 SW 14 MEMBER, LLC     1 COMMUNITY BUILDERS, LLC   \n",
       "96                      1010DATA, INC.           1-800-DOCTORS, INC.   \n",
       "97             1011 - 1041 TALEGA, LLC           1-800-PACK-RAT, LLC   \n",
       "98  1011 BRIAR HILLS ONE INVESTORS INC  1 800 RADIATOR FRANCHISE INC   \n",
       "99          101105607 SASKATCHEWAN LTD                 1-10/KATY LTD   \n",
       "\n",
       "    Similarity  \n",
       "0     0.685714  \n",
       "1     0.912281  \n",
       "2     0.833333  \n",
       "3     0.608696  \n",
       "4     0.583333  \n",
       "..         ...  \n",
       "95    0.500000  \n",
       "96    0.666667  \n",
       "97    0.476190  \n",
       "98    0.516129  \n",
       "99    0.512821  \n",
       "\n",
       "[100 rows x 3 columns]"
      ]
     },
     "execution_count": 12,
     "metadata": {},
     "output_type": "execute_result"
    }
   ],
   "source": [
    "model.matches"
   ]
  },
  {
   "cell_type": "code",
   "execution_count": 16,
   "id": "6bbbcbaa-88de-4f7c-a512-9dd210049c37",
   "metadata": {},
   "outputs": [],
   "source": [
    "grouper = polyfuzz2.PolyFuzzGroup(method=base_edit_grouper, matches=model.matches)"
   ]
  },
  {
   "cell_type": "code",
   "execution_count": 17,
   "id": "77cbef0a-6799-4086-b400-9a8ff4e3ffc7",
   "metadata": {},
   "outputs": [],
   "source": [
    "grouper.group()"
   ]
  },
  {
   "cell_type": "code",
   "execution_count": 18,
   "id": "173e81d0-37ce-4f31-b9b4-2b15df4d4af5",
   "metadata": {},
   "outputs": [
    {
     "data": {
      "text/html": [
       "<div>\n",
       "<style scoped>\n",
       "    .dataframe tbody tr th:only-of-type {\n",
       "        vertical-align: middle;\n",
       "    }\n",
       "\n",
       "    .dataframe tbody tr th {\n",
       "        vertical-align: top;\n",
       "    }\n",
       "\n",
       "    .dataframe thead th {\n",
       "        text-align: right;\n",
       "    }\n",
       "</style>\n",
       "<table border=\"1\" class=\"dataframe\">\n",
       "  <thead>\n",
       "    <tr style=\"text-align: right;\">\n",
       "      <th></th>\n",
       "      <th>From</th>\n",
       "      <th>To</th>\n",
       "      <th>Similarity</th>\n",
       "      <th>Group</th>\n",
       "    </tr>\n",
       "  </thead>\n",
       "  <tbody>\n",
       "    <tr>\n",
       "      <th>0</th>\n",
       "      <td>1-800-PHARMACY INC</td>\n",
       "      <td>1-800-JACKPOT INC</td>\n",
       "      <td>0.685714</td>\n",
       "      <td>1-800-JACKPOT INC</td>\n",
       "    </tr>\n",
       "    <tr>\n",
       "      <th>1</th>\n",
       "      <td>1-800-RADIATOR FRANCHISE INC.</td>\n",
       "      <td>1 800 RADIATOR FRANCHISE INC</td>\n",
       "      <td>0.912281</td>\n",
       "      <td>1 800 RADIATOR FRANCHISE INC</td>\n",
       "    </tr>\n",
       "    <tr>\n",
       "      <th>2</th>\n",
       "      <td>1-900 JACKPOT, INC.</td>\n",
       "      <td>1-800-JACKPOT INC</td>\n",
       "      <td>0.833333</td>\n",
       "      <td>1-800-JACKPOT INC</td>\n",
       "    </tr>\n",
       "    <tr>\n",
       "      <th>3</th>\n",
       "      <td>1-PAGE LTD</td>\n",
       "      <td>1-10/KATY LTD</td>\n",
       "      <td>0.608696</td>\n",
       "      <td>1-10/KATY LTD</td>\n",
       "    </tr>\n",
       "    <tr>\n",
       "      <th>4</th>\n",
       "      <td>1/2 MAC LTD</td>\n",
       "      <td>1-10/KATY LTD</td>\n",
       "      <td>0.583333</td>\n",
       "      <td>1-10/KATY LTD</td>\n",
       "    </tr>\n",
       "    <tr>\n",
       "      <th>...</th>\n",
       "      <td>...</td>\n",
       "      <td>...</td>\n",
       "      <td>...</td>\n",
       "      <td>...</td>\n",
       "    </tr>\n",
       "    <tr>\n",
       "      <th>95</th>\n",
       "      <td>10101 SW 14 MEMBER, LLC</td>\n",
       "      <td>1 COMMUNITY BUILDERS, LLC</td>\n",
       "      <td>0.500000</td>\n",
       "      <td>1 COMMUNITY BUILDERS, LLC</td>\n",
       "    </tr>\n",
       "    <tr>\n",
       "      <th>96</th>\n",
       "      <td>1010DATA, INC.</td>\n",
       "      <td>1-800-DOCTORS, INC.</td>\n",
       "      <td>0.666667</td>\n",
       "      <td>1-800-DOCTORS, INC.</td>\n",
       "    </tr>\n",
       "    <tr>\n",
       "      <th>97</th>\n",
       "      <td>1011 - 1041 TALEGA, LLC</td>\n",
       "      <td>1-800-PACK-RAT, LLC</td>\n",
       "      <td>0.476190</td>\n",
       "      <td>1-800-PACK-RAT, LLC</td>\n",
       "    </tr>\n",
       "    <tr>\n",
       "      <th>98</th>\n",
       "      <td>1011 BRIAR HILLS ONE INVESTORS INC</td>\n",
       "      <td>1 800 RADIATOR FRANCHISE INC</td>\n",
       "      <td>0.516129</td>\n",
       "      <td>1 800 RADIATOR FRANCHISE INC</td>\n",
       "    </tr>\n",
       "    <tr>\n",
       "      <th>99</th>\n",
       "      <td>101105607 SASKATCHEWAN LTD</td>\n",
       "      <td>1-10/KATY LTD</td>\n",
       "      <td>0.512821</td>\n",
       "      <td>1-10/KATY LTD</td>\n",
       "    </tr>\n",
       "  </tbody>\n",
       "</table>\n",
       "<p>100 rows × 4 columns</p>\n",
       "</div>"
      ],
      "text/plain": [
       "                                  From                            To  \\\n",
       "0                   1-800-PHARMACY INC             1-800-JACKPOT INC   \n",
       "1        1-800-RADIATOR FRANCHISE INC.  1 800 RADIATOR FRANCHISE INC   \n",
       "2                  1-900 JACKPOT, INC.             1-800-JACKPOT INC   \n",
       "3                           1-PAGE LTD                 1-10/KATY LTD   \n",
       "4                          1/2 MAC LTD                 1-10/KATY LTD   \n",
       "..                                 ...                           ...   \n",
       "95             10101 SW 14 MEMBER, LLC     1 COMMUNITY BUILDERS, LLC   \n",
       "96                      1010DATA, INC.           1-800-DOCTORS, INC.   \n",
       "97             1011 - 1041 TALEGA, LLC           1-800-PACK-RAT, LLC   \n",
       "98  1011 BRIAR HILLS ONE INVESTORS INC  1 800 RADIATOR FRANCHISE INC   \n",
       "99          101105607 SASKATCHEWAN LTD                 1-10/KATY LTD   \n",
       "\n",
       "    Similarity                         Group  \n",
       "0     0.685714             1-800-JACKPOT INC  \n",
       "1     0.912281  1 800 RADIATOR FRANCHISE INC  \n",
       "2     0.833333             1-800-JACKPOT INC  \n",
       "3     0.608696                 1-10/KATY LTD  \n",
       "4     0.583333                 1-10/KATY LTD  \n",
       "..         ...                           ...  \n",
       "95    0.500000     1 COMMUNITY BUILDERS, LLC  \n",
       "96    0.666667           1-800-DOCTORS, INC.  \n",
       "97    0.476190           1-800-PACK-RAT, LLC  \n",
       "98    0.516129  1 800 RADIATOR FRANCHISE INC  \n",
       "99    0.512821                 1-10/KATY LTD  \n",
       "\n",
       "[100 rows x 4 columns]"
      ]
     },
     "execution_count": 18,
     "metadata": {},
     "output_type": "execute_result"
    }
   ],
   "source": [
    "grouper.matches"
   ]
  },
  {
   "cell_type": "code",
   "execution_count": 19,
   "id": "e0cd997b-d18e-455f-998c-dead85bb4ad7",
   "metadata": {},
   "outputs": [
    {
     "data": {
      "text/plain": [
       "{0: ['1 800 RADIATOR FRANCHISE INC', '1-800-RADIATOR FRANCHISE INC.'],\n",
       " 1: ['1-800-JACKPOT INC', '1-900 JACKPOT, INC.'],\n",
       " 2: ['1 SOUTH WACKER HOLDINGS, LLC', '1001 SOUTH STATE STREET HOLDINGS, LLC']}"
      ]
     },
     "execution_count": 19,
     "metadata": {},
     "output_type": "execute_result"
    }
   ],
   "source": [
    "grouper.clusters"
   ]
  },
  {
   "cell_type": "code",
   "execution_count": 20,
   "id": "9bfed929-8e3d-4091-a70c-952c544d53ce",
   "metadata": {},
   "outputs": [
    {
     "data": {
      "text/plain": [
       "{'1 800 RADIATOR FRANCHISE INC': 0,\n",
       " '1-800-RADIATOR FRANCHISE INC.': 0,\n",
       " '1-800-JACKPOT INC': 1,\n",
       " '1-900 JACKPOT, INC.': 1,\n",
       " '1 SOUTH WACKER HOLDINGS, LLC': 2,\n",
       " '1001 SOUTH STATE STREET HOLDINGS, LLC': 2}"
      ]
     },
     "execution_count": 20,
     "metadata": {},
     "output_type": "execute_result"
    }
   ],
   "source": [
    "grouper.cluster_mappings"
   ]
  }
 ],
 "metadata": {
  "kernelspec": {
   "display_name": "Python 3 (ipykernel)",
   "language": "python",
   "name": "python3"
  },
  "language_info": {
   "codemirror_mode": {
    "name": "ipython",
    "version": 3
   },
   "file_extension": ".py",
   "mimetype": "text/x-python",
   "name": "python",
   "nbconvert_exporter": "python",
   "pygments_lexer": "ipython3",
   "version": "3.9.18"
  }
 },
 "nbformat": 4,
 "nbformat_minor": 5
}
