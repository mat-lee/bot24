{
 "cells": [
  {
   "cell_type": "code",
   "execution_count": 1,
   "id": "5fbb582b-f41e-4f2e-9990-51ea0aaa7f96",
   "metadata": {},
   "outputs": [],
   "source": [
    "%run polyfuzzmatch.ipynb"
   ]
  },
  {
   "cell_type": "code",
   "execution_count": 2,
   "id": "90df2931-4896-476d-ab13-04680c673df1",
   "metadata": {},
   "outputs": [],
   "source": [
    "class PolyFuzzGroup(PolyFuzzMatch):\n",
    "    def single_linkage(self, matches: pd.DataFrame,\n",
    "                       min_similarity: float = 0.8) -> tuple[dict[int, list[str]],\n",
    "                                                             dict[str, int],\n",
    "                                                             dict[str, str]]:\n",
    "        matches = matches.loc[matches.Similarity > min_similarity, :]\n",
    "    \n",
    "        cluster_mapping = {}\n",
    "        cluster_id = 0\n",
    "    \n",
    "        for row in matches.itertuples():\n",
    "    \n",
    "            # If from string has not already been mapped\n",
    "            if not cluster_mapping.get(row.From):\n",
    "    \n",
    "                # If the to string has not already been mapped\n",
    "                if not cluster_mapping.get(row.To):\n",
    "                    cluster_mapping[row.To] = cluster_id\n",
    "                    cluster_mapping[row.From] = cluster_id\n",
    "                    cluster_id += 1\n",
    "    \n",
    "                # If the to string has already been mapped\n",
    "                else:\n",
    "                    cluster_mapping[row.From] = cluster_mapping.get(row.To)\n",
    "    \n",
    "        # Populate the clusters\n",
    "        clusters = {}\n",
    "        for key, value in cluster_mapping.items():\n",
    "            clusters.setdefault(value, [])\n",
    "            clusters[value].append(key)\n",
    "    \n",
    "        cluster_name_map = {key: clusters.get(value)[0] for key, value in cluster_mapping.items()}\n",
    "    \n",
    "        return clusters, cluster_mapping, cluster_name_map\n"
   ]
  },
  {
   "cell_type": "code",
   "execution_count": 3,
   "id": "aaead932-dbff-4df5-9a49-656970c75be5",
   "metadata": {},
   "outputs": [
    {
     "data": {
      "text/plain": [
       "<__main__.PolyFuzzGroup at 0x7fcf405838e0>"
      ]
     },
     "execution_count": 3,
     "metadata": {},
     "output_type": "execute_result"
    }
   ],
   "source": [
    "test = PolyFuzzGroup(method=StringSimilarity())\n",
    "test.match_strings(to_list, from_list, n_most=3, threshold=0.5)"
   ]
  },
  {
   "cell_type": "code",
   "execution_count": 4,
   "id": "b52820d1-8bb5-4e34-b9ed-2211338c7cef",
   "metadata": {},
   "outputs": [
    {
     "data": {
      "text/plain": [
       "pandas.core.frame.DataFrame"
      ]
     },
     "execution_count": 4,
     "metadata": {},
     "output_type": "execute_result"
    }
   ],
   "source": [
    "type(test.matches)"
   ]
  },
  {
   "cell_type": "code",
   "execution_count": 5,
   "id": "db1d4ec1-5e80-44a7-9d8b-bdc9ecce6d2b",
   "metadata": {},
   "outputs": [],
   "source": [
    "c = test.single_linkage(test.matches, min_similarity=0.5)"
   ]
  },
  {
   "cell_type": "code",
   "execution_count": 6,
   "id": "e1dc6dd3-e3c7-4142-b4a8-b884ccf4ddc1",
   "metadata": {},
   "outputs": [
    {
     "data": {
      "text/plain": [
       "{'1-800-JACKPOT INC': '1-800-JACKPOT INC',\n",
       " '1-800-PHARMACY INC': '1-800-PHARMACY INC',\n",
       " '1-800 ATTORNEY INC': '1-800-PHARMACY INC',\n",
       " '1 800 RADIATOR FRANCHISE INC': '1 800 RADIATOR FRANCHISE INC',\n",
       " '1-800-RADIATOR FRANCHISE INC.': '1 800 RADIATOR FRANCHISE INC',\n",
       " '1-900 JACKPOT, INC.': '1-800-JACKPOT INC',\n",
       " '1-10/KATY LTD': '1-10/KATY LTD',\n",
       " '1-PAGE LTD': '1-10/KATY LTD',\n",
       " '1/2 MAC LTD': '1-10/KATY LTD',\n",
       " '08 UNBRIDLED ENERGY/TWILIGHT LEAGUE, LLC': '08 UNBRIDLED ENERGY/TWILIGHT LEAGUE, LLC',\n",
       " '10 ANY GIVEN SATURDAY/BRIGHT IMAGE, LLC': '08 UNBRIDLED ENERGY/TWILIGHT LEAGUE, LLC',\n",
       " '09 EXCLUSIVE QUALITY/ON THE PODIUM, LLC': '09 EXCLUSIVE QUALITY/ON THE PODIUM, LLC',\n",
       " '10 CIRCULAR QUAY/CHISPISKI, LLC': '09 EXCLUSIVE QUALITY/ON THE PODIUM, LLC',\n",
       " \"08 ORIENTATE/SONG'N DANCE, LLC\": \"08 ORIENTATE/SONG'N DANCE, LLC\",\n",
       " '10 CONGRATS/PONDERWAY, LLC': \"08 ORIENTATE/SONG'N DANCE, LLC\",\n",
       " '1 RATE COM LLC': '1 RATE COM LLC',\n",
       " '10 DEGREE LLC': '1 RATE COM LLC',\n",
       " \"08 MARIA'S MON/CANTAMAR, LLC\": \"08 MARIA'S MON/CANTAMAR, LLC\",\n",
       " '10 DIXIE UNION/ACANTHUS, LLC': \"08 MARIA'S MON/CANTAMAR, LLC\",\n",
       " '09 LATENT HEAT/KNOTTY ASH, LLC': '09 LATENT HEAT/KNOTTY ASH, LLC',\n",
       " '10 EDDINGTON/GOTTAH PENNY, LLC': '09 LATENT HEAT/KNOTTY ASH, LLC',\n",
       " '1 SOUTH WACKER HOLDINGS, LLC': '1 SOUTH WACKER HOLDINGS, LLC',\n",
       " '10 FARNSWORTH PARTNERS, LLC': '1 SOUTH WACKER HOLDINGS, LLC',\n",
       " '10 FC LLC': '1 RATE COM LLC',\n",
       " '08 FLATTER/GLAMORAMA, LLC': '08 FLATTER/GLAMORAMA, LLC',\n",
       " '10 FLATTER/OUR MAGIC CAT, LLC': '08 FLATTER/GLAMORAMA, LLC',\n",
       " '10 FOOTSTEPSINTHESAND/HAUTE VOLTA, LLC': '09 LATENT HEAT/KNOTTY ASH, LLC',\n",
       " '08 JOHAR/ZAWAAYA, LLC': '08 JOHAR/ZAWAAYA, LLC',\n",
       " '10 JAY PEG/HAPPY JEAN, LLC': '08 JOHAR/ZAWAAYA, LLC',\n",
       " '09 SILVER TRAIN/ALOTOFAPPEAL, LLC': '09 SILVER TRAIN/ALOTOFAPPEAL, LLC',\n",
       " '10 LAWYER RON/JOSTLE, LLC': '09 SILVER TRAIN/ALOTOFAPPEAL, LLC',\n",
       " '08 EL CORREDOR/AMANDAS BANDIT, LLC': '08 EL CORREDOR/AMANDAS BANDIT, LLC',\n",
       " '10 LEMON DROP KID/MEADOW VISTA, LLC': '08 EL CORREDOR/AMANDAS BANDIT, LLC',\n",
       " \"09 LION HEART/SONG'N DANCE, LLC\": \"09 LION HEART/SONG'N DANCE, LLC\",\n",
       " '10 LION HEART/PROFESSORA, LLC': \"09 LION HEART/SONG'N DANCE, LLC\",\n",
       " '08 MALIBU MOON/ASTICKYPROPOSITION, LLC': '08 MALIBU MOON/ASTICKYPROPOSITION, LLC',\n",
       " '10 MALIBU MOON/BANDSTAND, LLC': '08 MALIBU MOON/ASTICKYPROPOSITION, LLC',\n",
       " '1-800 ALL PARTS HOLDINGS, INC.': '1-800 ALL PARTS HOLDINGS, INC.',\n",
       " '10 OUTDOOR ADVERTISING, INC.': '1-800 ALL PARTS HOLDINGS, INC.',\n",
       " '1 PINE POINT LLC': '1 PINE POINT LLC',\n",
       " '10 PERCENT FEE, LLC': '1 PINE POINT LLC',\n",
       " '10 PERIMETER INVESTORS LLC': '1 PINE POINT LLC',\n",
       " '09 PURE PRIZE/ABSOLUTELY LOVELY, LLC': '09 PURE PRIZE/ABSOLUTELY LOVELY, LLC',\n",
       " '10 PURE PRIZE/GATHERINDY, LLC': '09 PURE PRIZE/ABSOLUTELY LOVELY, LLC',\n",
       " '10 SHARP HUMOR/SNOW COUNTY HONEY, LLC': '09 PURE PRIZE/ABSOLUTELY LOVELY, LLC',\n",
       " '1 HOLBROOK LN, LLC': '1 HOLBROOK LN, LLC',\n",
       " '10 SHIROCCO/NOVELINA, LLC': '1 HOLBROOK LN, LLC',\n",
       " '08 HOLY ROMAN EMPEROR/TING A GREELEY, LLC': '08 HOLY ROMAN EMPEROR/TING A GREELEY, LLC',\n",
       " '10 SKY MESA/FLYING AFLEET, LLC': '08 HOLY ROMAN EMPEROR/TING A GREELEY, LLC',\n",
       " '09 STORMY ATLANTIC/LASSO THE MOON, LLC': '09 STORMY ATLANTIC/LASSO THE MOON, LLC',\n",
       " '10 STORMY ATLANTIC/TOUCHNOW, LLC': '09 STORMY ATLANTIC/LASSO THE MOON, LLC',\n",
       " \"10 TALE OF THE CAT/I'M BEGUILED AGAIN, LLC\": \"09 LION HEART/SONG'N DANCE, LLC\",\n",
       " '10 TALENT CAPITAL, LP': '09 LATENT HEAT/KNOTTY ASH, LLC',\n",
       " '10 UCP REIT, LLC': '1 PINE POINT LLC',\n",
       " '10 UTOPIA/DANCIN ON BROADWAY, LLC': '08 JOHAR/ZAWAAYA, LLC',\n",
       " '1 VALLEY VIEW GROUP, LLC': '1 VALLEY VIEW GROUP, LLC',\n",
       " \"10 VALUE PLUS/HOW 'BOUT NO, LLC\": '1 VALLEY VIEW GROUP, LLC',\n",
       " '10 VAR/ROLLICKING ROMP, LLC': '1 VALLEY VIEW GROUP, LLC',\n",
       " '08 TAPIT/WORLD OF THANKS, LLC': '08 TAPIT/WORLD OF THANKS, LLC',\n",
       " '10 WEST CAPITAL GROWTH FUND LP': '08 TAPIT/WORLD OF THANKS, LLC',\n",
       " '1-800-DOCTORS, INC.': '1-800-DOCTORS, INC.',\n",
       " '10-15 ASSOCIATES, INC.': '1-800-DOCTORS, INC.',\n",
       " '1 DB FINANCIAL, INC.': '1 DB FINANCIAL, INC.',\n",
       " '10-20 MEDIA, INC.': '1 DB FINANCIAL, INC.',\n",
       " '10-30 S. WACKER CORE, L.L.C.': '1 SOUTH WACKER HOLDINGS, LLC',\n",
       " '1 CLASS CORP': '1 CLASS CORP',\n",
       " '10-4 CORP': '1 CLASS CORP',\n",
       " '100 BOOK CHALLENGE CO': '1 HOLBROOK LN, LLC',\n",
       " '100 CONGRESS REIT, LLC': '1 PINE POINT LLC',\n",
       " '100 COURT INVESTORS LLC TIG-1 LLC': '1 SOUTH WACKER HOLDINGS, LLC',\n",
       " '09 HALF OURS/DIXIE LYRICS, LLC': '09 HALF OURS/DIXIE LYRICS, LLC',\n",
       " '100 FEDERAL SUBSIDIARY REIT LLC': '09 HALF OURS/DIXIE LYRICS, LLC',\n",
       " '100 MAPLE LLC': '1 RATE COM LLC',\n",
       " '1-800 MUTUAL FUNDS INC': '1-800 MUTUAL FUNDS INC',\n",
       " '100 MILE FUND LLC': '1-800 MUTUAL FUNDS INC',\n",
       " '100 MILL PLAIN INVESTORS LLC': '1 PINE POINT LLC',\n",
       " '1 WORLD LAUNDRY HOLDINGS, LLC': '1 WORLD LAUNDRY HOLDINGS, LLC',\n",
       " '100 PLAZA HOLDINGS, LLC': '1 WORLD LAUNDRY HOLDINGS, LLC',\n",
       " '100 RIO GRANDE LLC': '1 800 RADIATOR FRANCHISE INC',\n",
       " '1 800 PATCHES INC': '1 800 PATCHES INC',\n",
       " '100 W. EXCHANGE AVE. INC': '1 800 PATCHES INC',\n",
       " '100 WALL ENERGY PARTNERS L P': '1-800 ALL PARTS HOLDINGS, INC.',\n",
       " '100 WALL INVESTMENTS LLC': '1 PINE POINT LLC',\n",
       " '100 WEST C STREET INVESTORS, LLC': '1 SOUTH WACKER HOLDINGS, LLC',\n",
       " '1000 MAIN REIT, LLC': '1 PINE POINT LLC',\n",
       " '1000 MARKETS, INC.': '1 800 PATCHES INC',\n",
       " '1000 MARY LLC': '1-800-PHARMACY INC',\n",
       " '1000 NORTH ARIZOLA ROAD, LLC': '08 JOHAR/ZAWAAYA, LLC',\n",
       " '1 800 CONTACTS INC': '1 800 CONTACTS INC',\n",
       " '1000 OAKS CO': '1 800 CONTACTS INC',\n",
       " '1-800-PACK-RAT, LLC': '1-800-PACK-RAT, LLC',\n",
       " '1000-1100 REIT, LLC': '1-800-PACK-RAT, LLC',\n",
       " '10000 LAMAR LLC': '1 RATE COM LLC',\n",
       " '1000MUSEUMS, INC.': '1-800 MUTUAL FUNDS INC',\n",
       " '1001 BANNOCK ST., LLC': '1-800-PACK-RAT, LLC',\n",
       " '1001 SOUTH STATE STREET HOLDINGS, LLC': '1 SOUTH WACKER HOLDINGS, LLC',\n",
       " '1001 STEPS FUNDS LP': '1-800 MUTUAL FUNDS INC',\n",
       " '1 ANSWER SOLUTIONS INC': '1 ANSWER SOLUTIONS INC',\n",
       " '1001 WAYS PRODUCTIONS LLC': '1 ANSWER SOLUTIONS INC',\n",
       " '1003652 CANADA INC.': '1 800 CONTACTS INC',\n",
       " '1005 INVESTORS LLC': '1 PINE POINT LLC',\n",
       " '1 ZONE LTD': '1 ZONE LTD',\n",
       " '100E LTD': '1 ZONE LTD',\n",
       " '1-800 IDEAS COM INC': '1-800 IDEAS COM INC',\n",
       " '100E.COM INC': '1-800 IDEAS COM INC',\n",
       " '100HEALTH, INC.': '1 800 PATCHES INC',\n",
       " '100INSIGHTS, INC': '1 800 CONTACTS INC',\n",
       " '100MILATBOX, LLC': '1-800-PACK-RAT, LLC',\n",
       " '1 SOLUTION CORP': '1 SOLUTION CORP',\n",
       " '101 CONSTITUTION TRUST': '1 SOLUTION CORP',\n",
       " '101 CORPORATE CENTER, LLC': '1 RATE COM LLC',\n",
       " '101 DALMATIANS WORLDWIDE LLC': '1 WORLD LAUNDRY HOLDINGS, LLC',\n",
       " '101 EDU, INC.': '1-800-DOCTORS, INC.',\n",
       " '101 HUNTINGTON HOLDINGS LLC': '1 SOUTH WACKER HOLDINGS, LLC',\n",
       " '101 PARKSHORE INVESTORS I LLC': '1 PINE POINT LLC',\n",
       " '101 SANCHEZ ASSOCIATES, LLC': '1 PINE POINT LLC',\n",
       " '101 SEAPORT BLVD LLC': '1 PINE POINT LLC',\n",
       " '08 GRAND SLAM/FEMININE, LLC': '08 GRAND SLAM/FEMININE, LLC',\n",
       " '101 SHERIDAN APARTMENTS, LLC': '08 GRAND SLAM/FEMININE, LLC',\n",
       " '09 ARCH/RUN WITH THE SPIRIT, LLC': '09 ARCH/RUN WITH THE SPIRIT, LLC',\n",
       " '101 WEST 126TH STREET LLC': '09 ARCH/RUN WITH THE SPIRIT, LLC',\n",
       " '1 FINANCIAL MARKETPLACE SECURITIES, LLC': '1 FINANCIAL MARKETPLACE SECURITIES, LLC',\n",
       " '101 WINNERS CIRCLE ASSOCIATES, L.P.': '1 FINANCIAL MARKETPLACE SECURITIES, LLC',\n",
       " '101 WYCKOFF LLC': '1 RATE COM LLC',\n",
       " '1010 EAST WASH, LLC': '09 LATENT HEAT/KNOTTY ASH, LLC',\n",
       " '1010DATA, INC.': '1-800-DOCTORS, INC.',\n",
       " '1011 BRIAR HILLS ONE INVESTORS INC': '1 800 RADIATOR FRANCHISE INC',\n",
       " '101105607 SASKATCHEWAN LTD': '1-10/KATY LTD'}"
      ]
     },
     "execution_count": 6,
     "metadata": {},
     "output_type": "execute_result"
    }
   ],
   "source": [
    "c[2]"
   ]
  },
  {
   "cell_type": "code",
   "execution_count": null,
   "id": "ba356c09-f851-4d66-9231-d639d113a931",
   "metadata": {},
   "outputs": [],
   "source": []
  }
 ],
 "metadata": {
  "kernelspec": {
   "display_name": "Python 3 (ipykernel)",
   "language": "python",
   "name": "python3"
  },
  "language_info": {
   "codemirror_mode": {
    "name": "ipython",
    "version": 3
   },
   "file_extension": ".py",
   "mimetype": "text/x-python",
   "name": "python",
   "nbconvert_exporter": "python",
   "pygments_lexer": "ipython3",
   "version": "3.9.18"
  }
 },
 "nbformat": 4,
 "nbformat_minor": 5
}
