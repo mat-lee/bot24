{
 "cells": [
  {
   "cell_type": "markdown",
   "id": "73263b06-36fe-47b6-9256-da7753d922b4",
   "metadata": {},
   "source": [
    "# Polyfuzz Classes"
   ]
  },
  {
   "cell_type": "markdown",
   "id": "a9748957-d31d-4046-af8f-4b821fdddb40",
   "metadata": {},
   "source": [
    "## Imports"
   ]
  },
  {
   "cell_type": "code",
   "execution_count": 1,
   "id": "fc1c5045-d74c-4c93-8e2f-190406f97711",
   "metadata": {},
   "outputs": [],
   "source": [
    "from abc import ABC, abstractmethod\n",
    "import os\n",
    "\n",
    "import pandas as pd\n",
    "from rapidfuzz import fuzz"
   ]
  },
  {
   "cell_type": "markdown",
   "id": "a017554d-8488-4215-a385-d50adc4113e6",
   "metadata": {},
   "source": [
    "## Classes"
   ]
  },
  {
   "cell_type": "code",
   "execution_count": 2,
   "id": "ac738027-04c3-4284-b8f8-ef9a6d6cf82d",
   "metadata": {},
   "outputs": [],
   "source": [
    "class BaseMatcher(ABC):\n",
    "    \"\"\" The abstract BaseMatching to be modelled after for string matching \"\"\"\n",
    "\n",
    "    def __init__(self, model_id: str = \"Model 0\"):\n",
    "        self.model_id = model_id\n",
    "        self.type = \"Base Model\"\n",
    "\n",
    "    @abstractmethod\n",
    "    def match(self,\n",
    "              from_list: list[str],\n",
    "              to_list: list[str] = None,\n",
    "              **kwargs):\n",
    "        \n",
    "        raise NotImplementedError()"
   ]
  },
  {
   "cell_type": "code",
   "execution_count": 3,
   "id": "ab2d2580-606e-4075-8674-37efb31862d7",
   "metadata": {},
   "outputs": [],
   "source": [
    "class StringSimilarity(BaseMatcher):\n",
    "    def match(self, from_list, to_list, n_most=1, threshold=0):\n",
    "        mappings = {'From': [], 'To': [], 'Similarity': []}\n",
    "        outliers = []\n",
    "        \n",
    "        # Calculate distances\n",
    "        for from_string in from_list:\n",
    "            matches = [[to_string, fuzz.ratio(from_string, to_string) / 100] \n",
    "                       for to_string in to_list]\n",
    "\n",
    "            # Save the top n_most matches\n",
    "            matches.sort(reverse=True, key=lambda x: x[1])\n",
    "            while len(matches) > n_most:\n",
    "                matches.pop(-1)\n",
    "\n",
    "            # Get ride of matches below the threshold\n",
    "            matches = [match for match in matches if match[1] > threshold]\n",
    "\n",
    "            # If there were no matches\n",
    "            if len(matches) == 0:\n",
    "                outliers.append(from_string)\n",
    "            # Otherwise add matches to mappings\n",
    "            else:\n",
    "                for match in matches:\n",
    "                    mappings['From'].append(from_string)\n",
    "                    mappings['To'].append(match[0])\n",
    "                    mappings['Similarity'].append(match[1])\n",
    "\n",
    "        # Prepare result\n",
    "        mappings = pd.DataFrame(mappings)\n",
    "        outliers = pd.Series(outliers)\n",
    "        return mappings, outliers"
   ]
  },
  {
   "cell_type": "code",
   "execution_count": 4,
   "id": "e35167c0-d2f2-4c00-b21f-4c7fc9222d5c",
   "metadata": {},
   "outputs": [],
   "source": [
    "class PolyFuzzMatch:\n",
    "    def __init__(self,\n",
    "         method: BaseMatcher = None,\n",
    "         matches = None,\n",
    "         outliers = None\n",
    "        ):\n",
    "\n",
    "        self.method = method\n",
    "        self.matches = matches\n",
    "        self.outliers = outliers\n",
    "\n",
    "    def match_strings(self,\n",
    "                from_list: list[str],\n",
    "                to_list: list[str] = None,\n",
    "                **kwargs\n",
    "              ):\n",
    "        self.matches, self.outliers = self.method.match(from_list, to_list, **kwargs)\n",
    "        return self"
   ]
  },
  {
   "cell_type": "markdown",
   "id": "2fe4d26d-2273-4d95-aac2-9a2e13a677c9",
   "metadata": {},
   "source": [
    "# Runtime"
   ]
  },
  {
   "cell_type": "markdown",
   "id": "cfae90b5-4aea-475b-9749-ccfc3ad7c965",
   "metadata": {},
   "source": [
    "## Data"
   ]
  },
  {
   "cell_type": "code",
   "execution_count": 5,
   "id": "ac9ae26f-2bb8-4384-8bed-cea696168396",
   "metadata": {},
   "outputs": [],
   "source": [
    "data_dir_edgar = os.path.join(os.sep.join(os.getcwd().split(os.sep)[:-4]), 'dat/net/sec_edgar')"
   ]
  },
  {
   "cell_type": "code",
   "execution_count": 6,
   "id": "e46c151b-173d-4b76-91ab-72836c6fd698",
   "metadata": {},
   "outputs": [],
   "source": [
    "data_a = pd.read_csv(f'{data_dir_edgar}/edgar100a.csv')\n",
    "data_b = pd.read_csv(f'{data_dir_edgar}/edgar100b.csv')\n",
    "data_c = pd.read_csv(f'{data_dir_edgar}/edgar100c.csv')\n",
    "data_d = pd.read_csv(f'{data_dir_edgar}/edgar100d.csv')"
   ]
  },
  {
   "cell_type": "code",
   "execution_count": 7,
   "id": "c1c2c66d-e77a-4003-b9be-2ebf35c613d0",
   "metadata": {},
   "outputs": [],
   "source": [
    "to_list = data_c.loc[:, 'name'].tolist()\n",
    "from_list = data_b.loc[:, 'name'].tolist()"
   ]
  },
  {
   "cell_type": "markdown",
   "id": "1db9fd8c-5d8b-4c8a-b232-4ecc14ebf968",
   "metadata": {},
   "source": [
    "## Evaluation"
   ]
  },
  {
   "cell_type": "code",
   "execution_count": 8,
   "id": "88ff7554-0631-4edf-905b-3e561e18e8da",
   "metadata": {},
   "outputs": [],
   "source": [
    "model = PolyFuzzMatch(method=StringSimilarity())"
   ]
  },
  {
   "cell_type": "code",
   "execution_count": 9,
   "id": "6e441d0f-c75a-43b8-a945-29825cedd296",
   "metadata": {},
   "outputs": [
    {
     "data": {
      "text/html": [
       "<div>\n",
       "<style scoped>\n",
       "    .dataframe tbody tr th:only-of-type {\n",
       "        vertical-align: middle;\n",
       "    }\n",
       "\n",
       "    .dataframe tbody tr th {\n",
       "        vertical-align: top;\n",
       "    }\n",
       "\n",
       "    .dataframe thead th {\n",
       "        text-align: right;\n",
       "    }\n",
       "</style>\n",
       "<table border=\"1\" class=\"dataframe\">\n",
       "  <thead>\n",
       "    <tr style=\"text-align: right;\">\n",
       "      <th></th>\n",
       "      <th>From</th>\n",
       "      <th>To</th>\n",
       "      <th>Similarity</th>\n",
       "    </tr>\n",
       "  </thead>\n",
       "  <tbody>\n",
       "    <tr>\n",
       "      <th>0</th>\n",
       "      <td>1-800-PHARMACY INC</td>\n",
       "      <td>1-800-JACKPOT INC</td>\n",
       "      <td>0.685714</td>\n",
       "    </tr>\n",
       "    <tr>\n",
       "      <th>1</th>\n",
       "      <td>1-800-PHARMACY INC</td>\n",
       "      <td>1-800 ATTORNEY INC</td>\n",
       "      <td>0.666667</td>\n",
       "    </tr>\n",
       "    <tr>\n",
       "      <th>2</th>\n",
       "      <td>1-800-PHARMACY INC</td>\n",
       "      <td>1-800-PACK-RAT LLC</td>\n",
       "      <td>0.666667</td>\n",
       "    </tr>\n",
       "    <tr>\n",
       "      <th>3</th>\n",
       "      <td>1-800-RADIATOR FRANCHISE INC.</td>\n",
       "      <td>1 800 RADIATOR FRANCHISE INC</td>\n",
       "      <td>0.912281</td>\n",
       "    </tr>\n",
       "    <tr>\n",
       "      <th>4</th>\n",
       "      <td>1-800-RADIATOR FRANCHISE INC.</td>\n",
       "      <td>1-800-DOCTORS, INC.</td>\n",
       "      <td>0.666667</td>\n",
       "    </tr>\n",
       "    <tr>\n",
       "      <th>...</th>\n",
       "      <td>...</td>\n",
       "      <td>...</td>\n",
       "      <td>...</td>\n",
       "    </tr>\n",
       "    <tr>\n",
       "      <th>230</th>\n",
       "      <td>1010DATA, INC.</td>\n",
       "      <td>1-800-DOCTORS, INC.</td>\n",
       "      <td>0.666667</td>\n",
       "    </tr>\n",
       "    <tr>\n",
       "      <th>231</th>\n",
       "      <td>1010DATA, INC.</td>\n",
       "      <td>1 DB FINANCIAL, INC.</td>\n",
       "      <td>0.588235</td>\n",
       "    </tr>\n",
       "    <tr>\n",
       "      <th>232</th>\n",
       "      <td>1010DATA, INC.</td>\n",
       "      <td>1 800 AUTOTOW INC</td>\n",
       "      <td>0.580645</td>\n",
       "    </tr>\n",
       "    <tr>\n",
       "      <th>233</th>\n",
       "      <td>1011 BRIAR HILLS ONE INVESTORS INC</td>\n",
       "      <td>1 800 RADIATOR FRANCHISE INC</td>\n",
       "      <td>0.516129</td>\n",
       "    </tr>\n",
       "    <tr>\n",
       "      <th>234</th>\n",
       "      <td>101105607 SASKATCHEWAN LTD</td>\n",
       "      <td>1-10/KATY LTD</td>\n",
       "      <td>0.512821</td>\n",
       "    </tr>\n",
       "  </tbody>\n",
       "</table>\n",
       "<p>235 rows × 3 columns</p>\n",
       "</div>"
      ],
      "text/plain": [
       "                                   From                            To  \\\n",
       "0                    1-800-PHARMACY INC             1-800-JACKPOT INC   \n",
       "1                    1-800-PHARMACY INC            1-800 ATTORNEY INC   \n",
       "2                    1-800-PHARMACY INC            1-800-PACK-RAT LLC   \n",
       "3         1-800-RADIATOR FRANCHISE INC.  1 800 RADIATOR FRANCHISE INC   \n",
       "4         1-800-RADIATOR FRANCHISE INC.           1-800-DOCTORS, INC.   \n",
       "..                                  ...                           ...   \n",
       "230                      1010DATA, INC.           1-800-DOCTORS, INC.   \n",
       "231                      1010DATA, INC.          1 DB FINANCIAL, INC.   \n",
       "232                      1010DATA, INC.             1 800 AUTOTOW INC   \n",
       "233  1011 BRIAR HILLS ONE INVESTORS INC  1 800 RADIATOR FRANCHISE INC   \n",
       "234          101105607 SASKATCHEWAN LTD                 1-10/KATY LTD   \n",
       "\n",
       "     Similarity  \n",
       "0      0.685714  \n",
       "1      0.666667  \n",
       "2      0.666667  \n",
       "3      0.912281  \n",
       "4      0.666667  \n",
       "..          ...  \n",
       "230    0.666667  \n",
       "231    0.588235  \n",
       "232    0.580645  \n",
       "233    0.516129  \n",
       "234    0.512821  \n",
       "\n",
       "[235 rows x 3 columns]"
      ]
     },
     "execution_count": 9,
     "metadata": {},
     "output_type": "execute_result"
    }
   ],
   "source": [
    "model.match_strings(to_list, from_list, n_most=3, threshold=0.5)\n",
    "model.matches"
   ]
  },
  {
   "cell_type": "code",
   "execution_count": 10,
   "id": "c494fd5c-ebe2-4cb2-af3d-80f138a3a9d0",
   "metadata": {},
   "outputs": [
    {
     "data": {
      "text/plain": [
       "0                                      10 GROUP PLC/ADR\n",
       "1                              10-120 S. RIVERSIDE REIT\n",
       "2                             10-20 CHANNEL CENTER REIT\n",
       "3        10/120 SOUTH RIVERSIDE ILLINOIS BUSINESS TRUST\n",
       "4                     100 WEST 93RD STREET INVESTORS LP\n",
       "5                              1000 1ST AVENUE SOUTH LP\n",
       "6                  1000 HOWARD BOULEVARD PARTNERS, L.P.\n",
       "7     1000CHANNEL REAL ESTATE OPPORTUNITIES FEEDER F...\n",
       "8                      1001 G STREET REHABILITAITON, LP\n",
       "9                        1008 UPPER GULPH ASSOCIATES LP\n",
       "10                 101 MAIN STREET LIMITED LIABILITY CO\n",
       "11                              10101 SW 14 MEMBER, LLC\n",
       "12                              1011 - 1041 TALEGA, LLC\n",
       "dtype: object"
      ]
     },
     "execution_count": 10,
     "metadata": {},
     "output_type": "execute_result"
    }
   ],
   "source": [
    "model.outliers"
   ]
  },
  {
   "cell_type": "code",
   "execution_count": null,
   "id": "f73382e7-6f9d-4a1a-94e1-5006342b822b",
   "metadata": {},
   "outputs": [],
   "source": []
  }
 ],
 "metadata": {
  "kernelspec": {
   "display_name": "Python 3 (ipykernel)",
   "language": "python",
   "name": "python3"
  },
  "language_info": {
   "codemirror_mode": {
    "name": "ipython",
    "version": 3
   },
   "file_extension": ".py",
   "mimetype": "text/x-python",
   "name": "python",
   "nbconvert_exporter": "python",
   "pygments_lexer": "ipython3",
   "version": "3.9.18"
  }
 },
 "nbformat": 4,
 "nbformat_minor": 5
}
