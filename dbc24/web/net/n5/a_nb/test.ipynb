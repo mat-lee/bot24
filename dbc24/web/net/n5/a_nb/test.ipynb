{
 "cells": [
  {
   "cell_type": "code",
   "execution_count": 1,
   "id": "064be76c-72a4-4d73-a543-784736602acb",
   "metadata": {},
   "outputs": [],
   "source": [
    "import os\n",
    "work_dir = os.sep.join(os.getcwd().split(os.sep)[0:-1])"
   ]
  },
  {
   "cell_type": "code",
   "execution_count": 2,
   "id": "af34f05e-6c93-44cd-8acd-c9e38aab7665",
   "metadata": {},
   "outputs": [
    {
     "name": "stdout",
     "output_type": "stream",
     "text": [
      "/Users/matthewlee/Documents/Code/b24/b5/bot2405a/dbc24/web/net/n5\n"
     ]
    }
   ],
   "source": [
    "print(work_dir)"
   ]
  },
  {
   "cell_type": "code",
   "execution_count": 3,
   "id": "158e3019-7e44-4047-b4ef-9dad37d3068f",
   "metadata": {},
   "outputs": [
    {
     "name": "stdout",
     "output_type": "stream",
     "text": [
      "['act', 'polyfuzz1']\n"
     ]
    }
   ],
   "source": [
    "work_tool=os.path.join(work_dir,'action')\n",
    "print(os.listdir(work_tool))\n",
    "import sys\n",
    "sys.path.insert(0, work_tool) \n",
    "import pprint as pp\n",
    "# pp.pprint(sys.path)"
   ]
  },
  {
   "cell_type": "code",
   "execution_count": 8,
   "id": "f84ca7c5-8d79-4398-8a0b-e18bc50ecc37",
   "metadata": {},
   "outputs": [],
   "source": [
    "from polyfuzz1 import polyfuzz1"
   ]
  },
  {
   "cell_type": "code",
   "execution_count": 9,
   "id": "4e5b2f9e-79d5-4843-b65e-4e4a4cb968f0",
   "metadata": {},
   "outputs": [],
   "source": [
    "from_list = [\"apple\", \"apples\", \"appl\", \"recal\", \"house\", \"similarity\"]\n",
    "to_list = [\"apple\", \"apples\", \"mouse\"]\n",
    "\n",
    "model = polyfuzz1.PolyFuzz1(\"TF-IDF\").match(from_list, to_list)"
   ]
  },
  {
   "cell_type": "code",
   "execution_count": 10,
   "id": "25d02d36-4804-4168-b976-5dc81afa9f43",
   "metadata": {},
   "outputs": [
    {
     "name": "stdout",
     "output_type": "stream",
     "text": [
      "{'TF-IDF':          From      To  Similarity\n",
      "0       apple   apple       1.000\n",
      "1      apples  apples       1.000\n",
      "2        appl   apple       0.784\n",
      "3       recal    None       0.000\n",
      "4       house   mouse       0.588\n",
      "5  similarity    None       0.000}\n"
     ]
    }
   ],
   "source": [
    "print(model.matches)"
   ]
  }
 ],
 "metadata": {
  "kernelspec": {
   "display_name": "Python 3 (ipykernel)",
   "language": "python",
   "name": "python3"
  },
  "language_info": {
   "codemirror_mode": {
    "name": "ipython",
    "version": 3
   },
   "file_extension": ".py",
   "mimetype": "text/x-python",
   "name": "python",
   "nbconvert_exporter": "python",
   "pygments_lexer": "ipython3",
   "version": "3.9.18"
  }
 },
 "nbformat": 4,
 "nbformat_minor": 5
}
