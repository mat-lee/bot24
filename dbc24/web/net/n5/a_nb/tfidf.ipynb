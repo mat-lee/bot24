{
 "cells": [
  {
   "cell_type": "code",
   "execution_count": 1,
   "id": "064be76c-72a4-4d73-a543-784736602acb",
   "metadata": {},
   "outputs": [],
   "source": [
    "import os\n",
    "work_dir = os.sep.join(os.getcwd().split(os.sep)[0:-1])"
   ]
  },
  {
   "cell_type": "code",
   "execution_count": 2,
   "id": "af34f05e-6c93-44cd-8acd-c9e38aab7665",
   "metadata": {},
   "outputs": [
    {
     "name": "stdout",
     "output_type": "stream",
     "text": [
      "/Users/matthewlee/Documents/Code/b24/b5/bot2405a/dbc24/web/net/n5\n"
     ]
    }
   ],
   "source": [
    "print(work_dir)"
   ]
  },
  {
   "cell_type": "code",
   "execution_count": 3,
   "id": "158e3019-7e44-4047-b4ef-9dad37d3068f",
   "metadata": {},
   "outputs": [],
   "source": [
    "import sys\n",
    "\n",
    "work_tool=os.path.join(work_dir,'action')\n",
    "data_dir_netflix=os.path.join(work_dir,'setup/d_data')\n",
    "data_dir_edgar=os.path.join(os.sep.join(work_dir.split(os.sep)[0:-3]),'dat/net/sec_edgar')\n",
    "\n",
    "sys.path.insert(0, work_tool)"
   ]
  },
  {
   "cell_type": "code",
   "execution_count": 4,
   "id": "f84ca7c5-8d79-4398-8a0b-e18bc50ecc37",
   "metadata": {},
   "outputs": [],
   "source": [
    "from polyfuzz1 import polyfuzz1, metrics\n",
    "from polyfuzz1.models import tfidf\n",
    "\n",
    "import json\n",
    "import numpy as np\n",
    "import pandas as pd"
   ]
  },
  {
   "cell_type": "markdown",
   "id": "dfa775c5-91e0-467e-bb0b-2585177401ab",
   "metadata": {},
   "source": [
    "## Data"
   ]
  },
  {
   "cell_type": "code",
   "execution_count": 5,
   "id": "088ce754-5c58-49c6-bbf4-3ed295981839",
   "metadata": {},
   "outputs": [],
   "source": [
    "# Load data\n",
    "# data_a = json.load(open(f'{data_dir_netflix}/movie_titles_netflix_a.json', 'r'))\n",
    "# data_b = json.load(open(f'{data_dir_netflix}/movie_titles_netflix_b.json', 'r'))\n",
    "\n",
    "data_a = pd.read_csv(f'{data_dir_edgar}/edgar100a.csv')\n",
    "data_b = pd.read_csv(f'{data_dir_edgar}/edgar100b.csv')"
   ]
  },
  {
   "cell_type": "code",
   "execution_count": 6,
   "id": "08911e78-69e4-4ffb-913c-1ef0117296db",
   "metadata": {},
   "outputs": [],
   "source": [
    "to_list = data_a.loc[:, 'name'].tolist()\n",
    "from_list = data_b.loc[:, 'name'].tolist()"
   ]
  },
  {
   "cell_type": "markdown",
   "id": "d423d89c-e655-427d-90c3-3448821abc52",
   "metadata": {},
   "source": [
    "## Custom Model/Grouping"
   ]
  },
  {
   "cell_type": "code",
   "execution_count": 7,
   "id": "07dce4a5-6920-4930-9766-8c41f0f2dc2c",
   "metadata": {},
   "outputs": [
    {
     "ename": "NameError",
     "evalue": "name 'BaseMatcher' is not defined",
     "output_type": "error",
     "traceback": [
      "\u001b[0;31m---------------------------------------------------------------------------\u001b[0m",
      "\u001b[0;31mNameError\u001b[0m                                 Traceback (most recent call last)",
      "Cell \u001b[0;32mIn[7], line 1\u001b[0m\n\u001b[0;32m----> 1\u001b[0m \u001b[38;5;28;01mclass\u001b[39;00m \u001b[38;5;21;01mMyModel\u001b[39;00m(\u001b[43mBaseMatcher\u001b[49m):\n\u001b[1;32m      2\u001b[0m     \u001b[38;5;28;01mdef\u001b[39;00m \u001b[38;5;21mmatch\u001b[39m(\u001b[38;5;28mself\u001b[39m, from_list, to_list, \u001b[38;5;241m*\u001b[39m\u001b[38;5;241m*\u001b[39mkwargs):\n\u001b[1;32m      3\u001b[0m         \u001b[38;5;66;03m# Calculate distances\u001b[39;00m\n\u001b[1;32m      4\u001b[0m         matches \u001b[38;5;241m=\u001b[39m [[fuzz\u001b[38;5;241m.\u001b[39mratio(from_string, to_string) \u001b[38;5;241m/\u001b[39m \u001b[38;5;241m100\u001b[39m \n\u001b[1;32m      5\u001b[0m                    \u001b[38;5;28;01mfor\u001b[39;00m to_string \u001b[38;5;129;01min\u001b[39;00m to_list] \u001b[38;5;28;01mfor\u001b[39;00m from_string \u001b[38;5;129;01min\u001b[39;00m from_list]\n",
      "\u001b[0;31mNameError\u001b[0m: name 'BaseMatcher' is not defined"
     ]
    }
   ],
   "source": [
    "class MyModel(BaseMatcher):\n",
    "    def match(self, from_list, to_list, **kwargs):\n",
    "        # Calculate distances\n",
    "        matches = [[fuzz.ratio(from_string, to_string) / 100 \n",
    "                   for to_string in to_list] for from_string in from_list]\n",
    "\n",
    "        # Get best matches\n",
    "        mappings = [to_list[index] for index in np.argmax(matches, axis=1)]\n",
    "        scores = np.max(matches, axis=1)\n",
    "\n",
    "        # Prepare dataframe\n",
    "        matches = pd.DataFrame({'From': from_list,\n",
    "                                'To': mappings, \n",
    "                                'Similarity': scores})\n",
    "        return matches"
   ]
  },
  {
   "cell_type": "code",
   "execution_count": null,
   "id": "aa61d2b3-a0d2-4bd8-badb-4d8bb0aecf49",
   "metadata": {},
   "outputs": [],
   "source": [
    "# from_list = [\"apple\", \"apples\", \"appl\", \"recal\", \"house\", \"similarity\"]\n",
    "# to_list = [\"apple\", \"apples\", \"mouse\"]\n",
    "\n",
    "# model = PolyFuzz(\"TF-IDF\").match(from_list, to_list)\n",
    "\n",
    "# Custom grouper\n",
    "base_edit_grouper = EditDistance(n_jobs=1)\n",
    "# model.group(base_edit_grouper)"
   ]
  },
  {
   "cell_type": "markdown",
   "id": "056e10f6-8380-4741-a3b8-699fdf0a3fb6",
   "metadata": {},
   "source": [
    "## Edit Distance"
   ]
  },
  {
   "cell_type": "code",
   "execution_count": null,
   "id": "c505ea1d-d8b9-4f5b-b668-61f72cdc8818",
   "metadata": {},
   "outputs": [],
   "source": [
    "model = polyfuzz1.PolyFuzz1(\"EditDistance\").match(to_list, from_list)"
   ]
  },
  {
   "cell_type": "code",
   "execution_count": null,
   "id": "b2d35cfd-18cb-4758-8d87-5afdcd1255bb",
   "metadata": {},
   "outputs": [],
   "source": [
    "model.matches['EditDistance']"
   ]
  },
  {
   "cell_type": "markdown",
   "id": "dca0cc9b-dc04-4f40-89ba-3348ac893fd1",
   "metadata": {},
   "source": [
    "## TF-IDF"
   ]
  },
  {
   "cell_type": "code",
   "execution_count": 8,
   "id": "02bbad8e-c935-48bd-9731-403421a669a2",
   "metadata": {},
   "outputs": [],
   "source": [
    "model = polyfuzz1.PolyFuzz1(\"TF-IDF\").match(to_list, from_list)\n",
    "matches = model.matches['TF-IDF']"
   ]
  },
  {
   "cell_type": "code",
   "execution_count": 9,
   "id": "8a042df4-749f-488f-bf7c-8b85dfe96b6d",
   "metadata": {},
   "outputs": [],
   "source": [
    "grouper = tfidf.TFIDF()\n",
    "model.group(grouper)"
   ]
  },
  {
   "cell_type": "code",
   "execution_count": null,
   "id": "fc8832dc-e69d-4182-ac17-d29d56ece3f2",
   "metadata": {},
   "outputs": [],
   "source": []
  },
  {
   "cell_type": "code",
   "execution_count": 10,
   "id": "9d9898a0-e744-4386-9ca0-3f4e51d65f6f",
   "metadata": {},
   "outputs": [
    {
     "data": {
      "text/html": [
       "<div>\n",
       "<style scoped>\n",
       "    .dataframe tbody tr th:only-of-type {\n",
       "        vertical-align: middle;\n",
       "    }\n",
       "\n",
       "    .dataframe tbody tr th {\n",
       "        vertical-align: top;\n",
       "    }\n",
       "\n",
       "    .dataframe thead th {\n",
       "        text-align: right;\n",
       "    }\n",
       "</style>\n",
       "<table border=\"1\" class=\"dataframe\">\n",
       "  <thead>\n",
       "    <tr style=\"text-align: right;\">\n",
       "      <th></th>\n",
       "      <th>From</th>\n",
       "      <th>To</th>\n",
       "      <th>Similarity</th>\n",
       "      <th>Group</th>\n",
       "    </tr>\n",
       "  </thead>\n",
       "  <tbody>\n",
       "    <tr>\n",
       "      <th>0</th>\n",
       "      <td>!J INC</td>\n",
       "      <td>1-800 IDEAS COM INC</td>\n",
       "      <td>0.271</td>\n",
       "      <td>1-800 IDEAS COM INC</td>\n",
       "    </tr>\n",
       "    <tr>\n",
       "      <th>1</th>\n",
       "      <td>#1 A LIFESAFER HOLDINGS, INC.</td>\n",
       "      <td>1-800 ALL PARTS HOLDINGS, INC.</td>\n",
       "      <td>0.401</td>\n",
       "      <td>1-800 ALL PARTS HOLDINGS, INC.</td>\n",
       "    </tr>\n",
       "    <tr>\n",
       "      <th>2</th>\n",
       "      <td>#1 ARIZONA DISCOUNT PROPERTIES LLC</td>\n",
       "      <td>1 ZONE LTD</td>\n",
       "      <td>0.163</td>\n",
       "      <td>1 ZONE LTD</td>\n",
       "    </tr>\n",
       "    <tr>\n",
       "      <th>3</th>\n",
       "      <td>#1 PAINTBALL CORP</td>\n",
       "      <td>1 CLASS CORP</td>\n",
       "      <td>0.216</td>\n",
       "      <td>1 CLASS CORP</td>\n",
       "    </tr>\n",
       "    <tr>\n",
       "      <th>4</th>\n",
       "      <td>$ LLC</td>\n",
       "      <td>1 RATE COM LLC</td>\n",
       "      <td>0.168</td>\n",
       "      <td>1 RATE COM LLC</td>\n",
       "    </tr>\n",
       "    <tr>\n",
       "      <th>...</th>\n",
       "      <td>...</td>\n",
       "      <td>...</td>\n",
       "      <td>...</td>\n",
       "      <td>...</td>\n",
       "    </tr>\n",
       "    <tr>\n",
       "      <th>95</th>\n",
       "      <td>0741693 B.C. LTD.</td>\n",
       "      <td>1 ZONE LTD</td>\n",
       "      <td>0.115</td>\n",
       "      <td>1 ZONE LTD</td>\n",
       "    </tr>\n",
       "    <tr>\n",
       "      <th>96</th>\n",
       "      <td>0761717 B.C. LTD.</td>\n",
       "      <td>0967761 BC, LTD.</td>\n",
       "      <td>0.237</td>\n",
       "      <td>0967761 BC, LTD.</td>\n",
       "    </tr>\n",
       "    <tr>\n",
       "      <th>97</th>\n",
       "      <td>0766284 B.C. LTD</td>\n",
       "      <td>1 ZONE LTD</td>\n",
       "      <td>0.116</td>\n",
       "      <td>1 ZONE LTD</td>\n",
       "    </tr>\n",
       "    <tr>\n",
       "      <th>98</th>\n",
       "      <td>0787251 BC LTD</td>\n",
       "      <td>0893787 B.C. LTD.</td>\n",
       "      <td>0.240</td>\n",
       "      <td>0893787 B.C. LTD.</td>\n",
       "    </tr>\n",
       "    <tr>\n",
       "      <th>99</th>\n",
       "      <td>0792725 B.C. LTD</td>\n",
       "      <td>1 ZONE LTD</td>\n",
       "      <td>0.116</td>\n",
       "      <td>1 ZONE LTD</td>\n",
       "    </tr>\n",
       "  </tbody>\n",
       "</table>\n",
       "<p>100 rows × 4 columns</p>\n",
       "</div>"
      ],
      "text/plain": [
       "                                  From                              To  \\\n",
       "0                               !J INC             1-800 IDEAS COM INC   \n",
       "1        #1 A LIFESAFER HOLDINGS, INC.  1-800 ALL PARTS HOLDINGS, INC.   \n",
       "2   #1 ARIZONA DISCOUNT PROPERTIES LLC                      1 ZONE LTD   \n",
       "3                    #1 PAINTBALL CORP                    1 CLASS CORP   \n",
       "4                                $ LLC                  1 RATE COM LLC   \n",
       "..                                 ...                             ...   \n",
       "95                   0741693 B.C. LTD.                      1 ZONE LTD   \n",
       "96                   0761717 B.C. LTD.                0967761 BC, LTD.   \n",
       "97                    0766284 B.C. LTD                      1 ZONE LTD   \n",
       "98                      0787251 BC LTD               0893787 B.C. LTD.   \n",
       "99                    0792725 B.C. LTD                      1 ZONE LTD   \n",
       "\n",
       "    Similarity                           Group  \n",
       "0        0.271             1-800 IDEAS COM INC  \n",
       "1        0.401  1-800 ALL PARTS HOLDINGS, INC.  \n",
       "2        0.163                      1 ZONE LTD  \n",
       "3        0.216                    1 CLASS CORP  \n",
       "4        0.168                  1 RATE COM LLC  \n",
       "..         ...                             ...  \n",
       "95       0.115                      1 ZONE LTD  \n",
       "96       0.237                0967761 BC, LTD.  \n",
       "97       0.116                      1 ZONE LTD  \n",
       "98       0.240               0893787 B.C. LTD.  \n",
       "99       0.116                      1 ZONE LTD  \n",
       "\n",
       "[100 rows x 4 columns]"
      ]
     },
     "execution_count": 10,
     "metadata": {},
     "output_type": "execute_result"
    }
   ],
   "source": [
    "model.matches['TF-IDF']"
   ]
  },
  {
   "cell_type": "code",
   "execution_count": null,
   "id": "db0d6980-d0df-4652-9303-7179fc5b7420",
   "metadata": {},
   "outputs": [],
   "source": [
    "# model.method._extract_tf_idf(to_list, from_list)"
   ]
  },
  {
   "cell_type": "code",
   "execution_count": 13,
   "id": "89a8296d-3e40-4dad-8281-b4ef9f202c4a",
   "metadata": {},
   "outputs": [
    {
     "data": {
      "text/plain": [
       "array([], dtype=object)"
      ]
     },
     "execution_count": 13,
     "metadata": {},
     "output_type": "execute_result"
    }
   ],
   "source": [
    "from sklearn.feature_extraction.text import CountVectorizer\n",
    "\n",
    "vectorizer = CountVectorizer()\n",
    "X = vectorizer.fit_transform(data_a)\n",
    "vectorizer.get_feature_names_out()[25:75]"
   ]
  },
  {
   "cell_type": "code",
   "execution_count": 14,
   "id": "d5c885fe-ed60-4e08-8d0b-860872d7df5b",
   "metadata": {},
   "outputs": [],
   "source": [
    "vectorizer = CountVectorizer(min_df=1, analyzer=model.method._create_ngrams).fit(to_list + from_list)\n",
    "tf_idf_to = vectorizer.transform(to_list)\n",
    "tf_idf_from = vectorizer.transform(from_list)"
   ]
  },
  {
   "cell_type": "code",
   "execution_count": null,
   "id": "12c77414-9f47-4e8a-8e1a-4683ce9b33e0",
   "metadata": {},
   "outputs": [],
   "source": [
    "print(np.array(tf_idf_to))"
   ]
  },
  {
   "cell_type": "code",
   "execution_count": 16,
   "id": "a924c723-f5a0-4e34-ab69-abc77c0a8aaa",
   "metadata": {},
   "outputs": [
    {
     "data": {
      "text/html": [
       "<div>\n",
       "<style scoped>\n",
       "    .dataframe tbody tr th:only-of-type {\n",
       "        vertical-align: middle;\n",
       "    }\n",
       "\n",
       "    .dataframe tbody tr th {\n",
       "        vertical-align: top;\n",
       "    }\n",
       "\n",
       "    .dataframe thead th {\n",
       "        text-align: right;\n",
       "    }\n",
       "</style>\n",
       "<table border=\"1\" class=\"dataframe\">\n",
       "  <thead>\n",
       "    <tr style=\"text-align: right;\">\n",
       "      <th></th>\n",
       "      <th>0</th>\n",
       "      <th>1</th>\n",
       "      <th>2</th>\n",
       "      <th>3</th>\n",
       "      <th>4</th>\n",
       "      <th>5</th>\n",
       "      <th>6</th>\n",
       "      <th>7</th>\n",
       "      <th>8</th>\n",
       "      <th>9</th>\n",
       "      <th>...</th>\n",
       "      <th>91</th>\n",
       "      <th>92</th>\n",
       "      <th>93</th>\n",
       "      <th>94</th>\n",
       "      <th>95</th>\n",
       "      <th>96</th>\n",
       "      <th>97</th>\n",
       "      <th>98</th>\n",
       "      <th>99</th>\n",
       "      <th>100</th>\n",
       "    </tr>\n",
       "  </thead>\n",
       "  <tbody>\n",
       "    <tr>\n",
       "      <th>0</th>\n",
       "      <td>0.00000</td>\n",
       "      <td>0.01000</td>\n",
       "      <td>0.02000</td>\n",
       "      <td>0.030000</td>\n",
       "      <td>0.040000</td>\n",
       "      <td>0.050000</td>\n",
       "      <td>0.060000</td>\n",
       "      <td>0.070000</td>\n",
       "      <td>0.080000</td>\n",
       "      <td>0.090000</td>\n",
       "      <td>...</td>\n",
       "      <td>0.91</td>\n",
       "      <td>0.92</td>\n",
       "      <td>0.93</td>\n",
       "      <td>0.94</td>\n",
       "      <td>0.95</td>\n",
       "      <td>0.96</td>\n",
       "      <td>0.97</td>\n",
       "      <td>0.98</td>\n",
       "      <td>0.99</td>\n",
       "      <td>1.0</td>\n",
       "    </tr>\n",
       "    <tr>\n",
       "      <th>1</th>\n",
       "      <td>1.00000</td>\n",
       "      <td>1.00000</td>\n",
       "      <td>1.00000</td>\n",
       "      <td>0.990000</td>\n",
       "      <td>0.990000</td>\n",
       "      <td>0.990000</td>\n",
       "      <td>0.990000</td>\n",
       "      <td>0.970000</td>\n",
       "      <td>0.950000</td>\n",
       "      <td>0.920000</td>\n",
       "      <td>...</td>\n",
       "      <td>0.00</td>\n",
       "      <td>0.00</td>\n",
       "      <td>0.00</td>\n",
       "      <td>0.00</td>\n",
       "      <td>0.00</td>\n",
       "      <td>0.00</td>\n",
       "      <td>0.00</td>\n",
       "      <td>0.00</td>\n",
       "      <td>0.00</td>\n",
       "      <td>0.0</td>\n",
       "    </tr>\n",
       "    <tr>\n",
       "      <th>2</th>\n",
       "      <td>0.20972</td>\n",
       "      <td>0.20972</td>\n",
       "      <td>0.20972</td>\n",
       "      <td>0.211556</td>\n",
       "      <td>0.211556</td>\n",
       "      <td>0.211556</td>\n",
       "      <td>0.211556</td>\n",
       "      <td>0.214577</td>\n",
       "      <td>0.217474</td>\n",
       "      <td>0.221707</td>\n",
       "      <td>...</td>\n",
       "      <td>NaN</td>\n",
       "      <td>NaN</td>\n",
       "      <td>NaN</td>\n",
       "      <td>NaN</td>\n",
       "      <td>NaN</td>\n",
       "      <td>NaN</td>\n",
       "      <td>NaN</td>\n",
       "      <td>NaN</td>\n",
       "      <td>NaN</td>\n",
       "      <td>NaN</td>\n",
       "    </tr>\n",
       "  </tbody>\n",
       "</table>\n",
       "<p>3 rows × 101 columns</p>\n",
       "</div>"
      ],
      "text/plain": [
       "       0        1        2         3         4         5         6    \\\n",
       "0  0.00000  0.01000  0.02000  0.030000  0.040000  0.050000  0.060000   \n",
       "1  1.00000  1.00000  1.00000  0.990000  0.990000  0.990000  0.990000   \n",
       "2  0.20972  0.20972  0.20972  0.211556  0.211556  0.211556  0.211556   \n",
       "\n",
       "        7         8         9    ...   91    92    93    94    95    96   \\\n",
       "0  0.070000  0.080000  0.090000  ...  0.91  0.92  0.93  0.94  0.95  0.96   \n",
       "1  0.970000  0.950000  0.920000  ...  0.00  0.00  0.00  0.00  0.00  0.00   \n",
       "2  0.214577  0.217474  0.221707  ...   NaN   NaN   NaN   NaN   NaN   NaN   \n",
       "\n",
       "    97    98    99   100  \n",
       "0  0.97  0.98  0.99  1.0  \n",
       "1  0.00  0.00  0.00  0.0  \n",
       "2   NaN   NaN   NaN  NaN  \n",
       "\n",
       "[3 rows x 101 columns]"
      ]
     },
     "execution_count": 16,
     "metadata": {},
     "output_type": "execute_result"
    }
   ],
   "source": [
    "pd.DataFrame(metrics.precision_recall_curve(matches))"
   ]
  },
  {
   "cell_type": "code",
   "execution_count": 17,
   "id": "04f3d3f3-b550-4592-8f61-96c3d3052566",
   "metadata": {},
   "outputs": [
    {
     "data": {
      "image/png": "[encoded data removed]",
      "text/plain": [
       "<Figure size 2000x500 with 1 Axes>"
      ]
     },
     "metadata": {},
     "output_type": "display_data"
    }
   ],
   "source": [
    "model.visualize_precision_recall()"
   ]
  },
  {
   "cell_type": "code",
   "execution_count": 18,
   "id": "3011fb46-60b8-44fe-b6cd-0fe7d368d44d",
   "metadata": {},
   "outputs": [
    {
     "ename": "AttributeError",
     "evalue": "module 'polyfuzz1.polyfuzz1' has no attribute 'Polyfuzz1'",
     "output_type": "error",
     "traceback": [
      "\u001b[0;31m---------------------------------------------------------------------------\u001b[0m",
      "\u001b[0;31mAttributeError\u001b[0m                            Traceback (most recent call last)",
      "Cell \u001b[0;32mIn[18], line 1\u001b[0m\n\u001b[0;32m----> 1\u001b[0m model_a_to_b \u001b[38;5;241m=\u001b[39m \u001b[43mpolyfuzz1\u001b[49m\u001b[38;5;241;43m.\u001b[39;49m\u001b[43mPolyfuzz1\u001b[49m\n",
      "\u001b[0;31mAttributeError\u001b[0m: module 'polyfuzz1.polyfuzz1' has no attribute 'Polyfuzz1'"
     ]
    }
   ],
   "source": [
    "model_a_to_b = polyfuzz1.Polyfuzz1"
   ]
  },
  {
   "cell_type": "code",
   "execution_count": null,
   "id": "81232995-72b1-445f-82fa-7b5af0490d8b",
   "metadata": {},
   "outputs": [],
   "source": []
  },
  {
   "cell_type": "code",
   "execution_count": null,
   "id": "fbce8a6c-7223-4896-b0a5-9a51ecc627ac",
   "metadata": {},
   "outputs": [],
   "source": []
  }
 ],
 "metadata": {
  "kernelspec": {
   "display_name": "Python 3 (ipykernel)",
   "language": "python",
   "name": "python3"
  },
  "language_info": {
   "codemirror_mode": {
    "name": "ipython",
    "version": 3
   },
   "file_extension": ".py",
   "mimetype": "text/x-python",
   "name": "python",
   "nbconvert_exporter": "python",
   "pygments_lexer": "ipython3",
   "version": "3.9.18"
  }
 },
 "nbformat": 4,
 "nbformat_minor": 5
}
